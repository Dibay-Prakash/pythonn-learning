{
 "cells": [
  {
   "cell_type": "markdown",
   "id": "7cdc8a24-4fee-4d84-8bf1-9357ae8c2dee",
   "metadata": {},
   "source": [
    "# In this i am learning output and input ."
   ]
  },
  {
   "cell_type": "markdown",
   "id": "660c9737-7b73-4d8d-96b4-d888b9f4914b",
   "metadata": {},
   "source": [
    "### Output"
   ]
  },
  {
   "cell_type": "code",
   "execution_count": 2,
   "id": "38935d94-f3ec-4118-9af6-27ac5dd4e66e",
   "metadata": {},
   "outputs": [
    {
     "name": "stdout",
     "output_type": "stream",
     "text": [
      "hi every one\n"
     ]
    }
   ],
   "source": [
    "#for display the output we use print() fucntion \n",
    "print(\"hi every one\")"
   ]
  },
  {
   "cell_type": "code",
   "execution_count": 3,
   "id": "86735a71-ba8b-4eef-b3fb-36a4d7ea0d9d",
   "metadata": {},
   "outputs": [
    {
     "name": "stdout",
     "output_type": "stream",
     "text": [
      "44455\n"
     ]
    }
   ],
   "source": [
    "# for displying number output there is no need for \"\" .\n",
    "print(44455)"
   ]
  },
  {
   "cell_type": "markdown",
   "id": "27d51c47-4dc6-4d21-b59d-0aa6e928ad4e",
   "metadata": {},
   "source": [
    "### Input "
   ]
  },
  {
   "cell_type": "code",
   "execution_count": 4,
   "id": "3473b5c8-6f80-427d-a470-331883030e3b",
   "metadata": {},
   "outputs": [
    {
     "name": "stdin",
     "output_type": "stream",
     "text": [
      "enter your age: 21\n"
     ]
    },
    {
     "data": {
      "text/plain": [
       "'21'"
      ]
     },
     "execution_count": 4,
     "metadata": {},
     "output_type": "execute_result"
    }
   ],
   "source": [
    "input('enter your age:')"
   ]
  },
  {
   "cell_type": "markdown",
   "id": "9d4d1cdb-fdb5-473c-ab93-3787715b4d8a",
   "metadata": {},
   "source": [
    "### Datatypes"
   ]
  },
  {
   "cell_type": "code",
   "execution_count": 7,
   "id": "72e022ae-712d-4707-8596-ee153200f74b",
   "metadata": {},
   "outputs": [],
   "source": [
    "#Datatypes\n",
    "#NON primitive datatypes\n",
    "# 1. List==> collection of data that is mutable==>[]\n",
    "#2. Tuple ==> collection of data that is immutable ==> ()\n",
    "#3.Set ==> unorder collection of unique elements ==> {}\n",
    "#4. Dictionary (dict) ==> collection of data inkey-value pair ==>"
   ]
  },
  {
   "cell_type": "markdown",
   "id": "86258f85-3861-4486-92c2-977920ded634",
   "metadata": {},
   "source": [
    "# Variables"
   ]
  },
  {
   "cell_type": "code",
   "execution_count": 8,
   "id": "af0f7e78-92cf-4509-8ceb-5e355b51bb20",
   "metadata": {},
   "outputs": [],
   "source": [
    "# a programmer-chosen name that is like a container which can \n",
    "# store any types of data\n",
    "#cariable name convention:\n",
    "#1.must start with alphabets os underscore(_) followed by numbers\n",
    "#3. must be unique\n",
    "#4. we should not use whitespaces,keyword , and special character.\n",
    "#4. we should follow some case format to name variable such as: \n",
    "    # camelcase ==>firstName, lastName\n",
    "    # PascalCase ==>FirstName, LastName\n",
    "    # snake_case ==> First_name , Last_name"
   ]
  },
  {
   "cell_type": "code",
   "execution_count": 10,
   "id": "ee98fade-860a-4a50-811e-add7cb965b8c",
   "metadata": {},
   "outputs": [
    {
     "name": "stdout",
     "output_type": "stream",
     "text": [
      "20\n"
     ]
    },
    {
     "data": {
      "text/plain": [
       "int"
      ]
     },
     "execution_count": 10,
     "metadata": {},
     "output_type": "execute_result"
    }
   ],
   "source": [
    "x = 20\n",
    "# here x is variables \n",
    "# = assigment operator\n",
    "print(x)\n",
    "type(x)"
   ]
  },
  {
   "cell_type": "code",
   "execution_count": 13,
   "id": "2b071221-52ca-4e63-ba04-607bab11b79f",
   "metadata": {},
   "outputs": [
    {
     "name": "stdout",
     "output_type": "stream",
     "text": [
      "['apple', 'banana', 'grape']\n"
     ]
    },
    {
     "data": {
      "text/plain": [
       "list"
      ]
     },
     "execution_count": 13,
     "metadata": {},
     "output_type": "execute_result"
    }
   ],
   "source": [
    "#list \n",
    "fruits =['apple','banana','grape']\n",
    "print(fruits)\n",
    "type(fruits)"
   ]
  },
  {
   "cell_type": "code",
   "execution_count": 14,
   "id": "d204e91b-8670-4f39-ab6b-a0507d9f0433",
   "metadata": {},
   "outputs": [
    {
     "name": "stdout",
     "output_type": "stream",
     "text": [
      "('apple', 'banana', 'grape')\n"
     ]
    },
    {
     "data": {
      "text/plain": [
       "tuple"
      ]
     },
     "execution_count": 14,
     "metadata": {},
     "output_type": "execute_result"
    }
   ],
   "source": [
    "#tuple\n",
    "fruits= ('apple','banana','grape')\n",
    "print(fruits)\n",
    "type(fruits)"
   ]
  },
  {
   "cell_type": "code",
   "execution_count": 15,
   "id": "25d2f8de-739a-4f44-96fd-8dde6662b897",
   "metadata": {},
   "outputs": [
    {
     "name": "stdout",
     "output_type": "stream",
     "text": [
      "{1, 2, 3, 4, 5}\n"
     ]
    },
    {
     "data": {
      "text/plain": [
       "set"
      ]
     },
     "execution_count": 15,
     "metadata": {},
     "output_type": "execute_result"
    }
   ],
   "source": [
    "#set\n",
    "number = {1,2,3,4,5,}\n",
    "print(number)\n",
    "type(number)"
   ]
  },
  {
   "cell_type": "code",
   "execution_count": 16,
   "id": "f921835f-bb20-43ea-b34a-039e67d8a3b7",
   "metadata": {},
   "outputs": [],
   "source": [
    "#Dictionary"
   ]
  },
  {
   "cell_type": "code",
   "execution_count": 19,
   "id": "b4144a67-e059-4ea8-a20d-e2e0b14d8aae",
   "metadata": {},
   "outputs": [
    {
     "name": "stdout",
     "output_type": "stream",
     "text": [
      "{'name': 'sirish', 'age': 25, 'home': 'bihar', 'fav sub': ['cg', 'math', 'bio']}\n"
     ]
    },
    {
     "data": {
      "text/plain": [
       "dict"
      ]
     },
     "execution_count": 19,
     "metadata": {},
     "output_type": "execute_result"
    }
   ],
   "source": [
    "student = { \n",
    "    'name': 'sirish',\n",
    "    'age': 25,\n",
    "    'home':'bihar',\n",
    "    'fav sub':['cg','math','bio',]\n",
    "}\n",
    "print(student)\n",
    "type(student)\n"
   ]
  },
  {
   "cell_type": "code",
   "execution_count": 22,
   "id": "3c3a73f1-2809-41d5-96ea-7fa33d2df8fe",
   "metadata": {},
   "outputs": [
    {
     "name": "stdin",
     "output_type": "stream",
     "text": [
      "enter your name: dibas\n"
     ]
    },
    {
     "name": "stdout",
     "output_type": "stream",
     "text": [
      "welcome dibas\n"
     ]
    },
    {
     "data": {
      "text/plain": [
       "str"
      ]
     },
     "execution_count": 22,
     "metadata": {},
     "output_type": "execute_result"
    }
   ],
   "source": [
    "name = input(\"enter your name:\")\n",
    "print(\"welcome\",name)\n",
    "type(name)\n"
   ]
  },
  {
   "cell_type": "code",
   "execution_count": 29,
   "id": "6f5963aa-dc82-4425-8c6d-b0785d05ba59",
   "metadata": {},
   "outputs": [
    {
     "name": "stdout",
     "output_type": "stream",
     "text": [
      "my name is maheshlives in lalitpur and i am 25 year old\n"
     ]
    }
   ],
   "source": [
    "name='mahesh'\n",
    "age=25\n",
    "address =\"lalitpur\"\n",
    "print(f\"my name is {name}lives in {address} and i am {age} year old\")\n",
    "print (\"my name is{} iam {} years old and i live in {}\".format()\n"
   ]
  },
  {
   "cell_type": "markdown",
   "id": "844ea97f-e570-4716-add5-e40976b35236",
   "metadata": {},
   "source": [
    "### Type conversion\n",
    "1.implicit type conversion ==> Automatic type conversion\n",
    " 2.Explicit type conversion ==> Manually have to change the types"
   ]
  },
  {
   "cell_type": "code",
   "execution_count": 4,
   "id": "a3448ad6-9042-4146-8e46-b44ea52e467e",
   "metadata": {},
   "outputs": [
    {
     "name": "stdin",
     "output_type": "stream",
     "text": [
      "enter your age: 10\n"
     ]
    },
    {
     "name": "stdout",
     "output_type": "stream",
     "text": [
      "10.0\n"
     ]
    },
    {
     "data": {
      "text/plain": [
       "float"
      ]
     },
     "execution_count": 4,
     "metadata": {},
     "output_type": "execute_result"
    }
   ],
   "source": [
    "age = float(input(\"enter your age:\"))\n",
    "print(age)\n",
    "type(age)"
   ]
  },
  {
   "cell_type": "code",
   "execution_count": null,
   "id": "3efd147a-8d0d-4bf6-8b6c-20303a3a8814",
   "metadata": {},
   "outputs": [],
   "source": []
  }
 ],
 "metadata": {
  "kernelspec": {
   "display_name": "Python 3 (ipykernel)",
   "language": "python",
   "name": "python3"
  },
  "language_info": {
   "codemirror_mode": {
    "name": "ipython",
    "version": 3
   },
   "file_extension": ".py",
   "mimetype": "text/x-python",
   "name": "python",
   "nbconvert_exporter": "python",
   "pygments_lexer": "ipython3",
   "version": "3.12.6"
  }
 },
 "nbformat": 4,
 "nbformat_minor": 5
}

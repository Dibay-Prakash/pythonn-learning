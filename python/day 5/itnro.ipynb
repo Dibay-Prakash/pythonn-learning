{
 "cells": [
  {
   "cell_type": "code",
   "execution_count": 1,
   "id": "fa70b860-cf40-4e2a-bb75-f6a7bfed9457",
   "metadata": {},
   "outputs": [
    {
     "name": "stdout",
     "output_type": "stream",
     "text": [
      "this is python first class\n",
      "dipashekha\n"
     ]
    }
   ],
   "source": [
    "print(\"this is python first class\")\n",
    "print (\"dipashekha\")"
   ]
  },
  {
   "cell_type": "markdown",
   "id": "7edeeb38-7a35-4f66-8606-12f5dd8d4421",
   "metadata": {},
   "source": [
    "# Python input and output\n",
    "for input we use input() function to take the input from user\n",
    "to display the result we use print() function "
   ]
  },
  {
   "cell_type": "code",
   "execution_count": 6,
   "id": "68a421e3-a95c-42e0-af38-ec68ae55cc5b",
   "metadata": {},
   "outputs": [
    {
     "name": "stdin",
     "output_type": "stream",
     "text": [
      "enter your full name dibas\n"
     ]
    },
    {
     "data": {
      "text/plain": [
       "'dibas'"
      ]
     },
     "execution_count": 6,
     "metadata": {},
     "output_type": "execute_result"
    }
   ],
   "source": [
    "input(\"enter your full name\")"
   ]
  },
  {
   "cell_type": "code",
   "execution_count": 7,
   "id": "e967f347-6222-4d09-8b71-56558a11b96f",
   "metadata": {},
   "outputs": [
    {
     "data": {
      "text/plain": [
       "str"
      ]
     },
     "execution_count": 7,
     "metadata": {},
     "output_type": "execute_result"
    }
   ],
   "source": [
    "type(\"input\")"
   ]
  },
  {
   "cell_type": "code",
   "execution_count": null,
   "id": "31e717fd-dc71-406d-a4b3-5854a33c371b",
   "metadata": {},
   "outputs": [],
   "source": []
  }
 ],
 "metadata": {
  "kernelspec": {
   "display_name": "Python 3 (ipykernel)",
   "language": "python",
   "name": "python3"
  },
  "language_info": {
   "codemirror_mode": {
    "name": "ipython",
    "version": 3
   },
   "file_extension": ".py",
   "mimetype": "text/x-python",
   "name": "python",
   "nbconvert_exporter": "python",
   "pygments_lexer": "ipython3",
   "version": "3.12.6"
  }
 },
 "nbformat": 4,
 "nbformat_minor": 5
}

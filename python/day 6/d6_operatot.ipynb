{
 "cells": [
  {
   "cell_type": "markdown",
   "id": "d35fa0e4-d675-4cfd-b23d-bd2ada6a4f25",
   "metadata": {},
   "source": [
    "### Operators\n",
    "1. Arithmatic operatot ==> +, -, *, / //(floor division)<\n",
    "2.  %(mod), **(power)"
   ]
  },
  {
   "cell_type": "code",
   "execution_count": 6,
   "id": "2011c820-2f5c-4ce3-96c7-5657bfb46764",
   "metadata": {},
   "outputs": [
    {
     "name": "stdout",
     "output_type": "stream",
     "text": [
      "300\n",
      "0.5\n"
     ]
    }
   ],
   "source": [
    "a = 100\n",
    "b = 200\n",
    "add =a+b\n",
    "sub=a-b\n",
    "mul=a*b\n",
    "div =a/b\n",
    "add\n",
    "mul\n",
    "print(add)\n",
    "print(div)\n"
   ]
  },
  {
   "cell_type": "markdown",
   "id": "5cb7b1b7-0483-46ac-ace3-8f2d226b191f",
   "metadata": {},
   "source": [
    "# Floor division\n",
    "it ignors the decimal value"
   ]
  },
  {
   "cell_type": "code",
   "execution_count": 7,
   "id": "bf0f08d1-0b20-44d6-bc6a-6140b6d12e30",
   "metadata": {},
   "outputs": [
    {
     "name": "stdout",
     "output_type": "stream",
     "text": [
      "0\n"
     ]
    }
   ],
   "source": [
    "a=10\n",
    "b=20\n",
    "fdiv=a//b\n",
    "print(fdiv)"
   ]
  },
  {
   "cell_type": "markdown",
   "id": "61ea77db-d1d6-4792-b62c-d944ef203a64",
   "metadata": {},
   "source": [
    "# # Modulus ==> remainder"
   ]
  },
  {
   "cell_type": "code",
   "execution_count": 13,
   "id": "bfd38329-342b-41a4-98b8-5b63d1a66ed2",
   "metadata": {},
   "outputs": [
    {
     "name": "stdout",
     "output_type": "stream",
     "text": [
      "2\n"
     ]
    }
   ],
   "source": [
    "# Modulus ==> remainder\n",
    "a=10\n",
    "b=4\n",
    "mod= a % b\n",
    "print(mod)"
   ]
  },
  {
   "cell_type": "markdown",
   "id": "5f674541-9e88-489f-ad20-9f8a04b0ecea",
   "metadata": {},
   "source": [
    " # **(power)"
   ]
  },
  {
   "cell_type": "code",
   "execution_count": 14,
   "id": "a458bbe4-c229-4444-a397-852ca0acdabd",
   "metadata": {},
   "outputs": [],
   "source": [
    "a=100\n",
    "pow = a**2"
   ]
  },
  {
   "cell_type": "code",
   "execution_count": 15,
   "id": "7288ab27-b0cb-42bb-a71f-e5d5e2034210",
   "metadata": {},
   "outputs": [
    {
     "name": "stdout",
     "output_type": "stream",
     "text": [
      "10000\n"
     ]
    }
   ],
   "source": [
    "print(pow)"
   ]
  },
  {
   "cell_type": "code",
   "execution_count": 20,
   "id": "c730f157-9ed6-4251-ac1c-c1ec6ed5d380",
   "metadata": {},
   "outputs": [
    {
     "name": "stdin",
     "output_type": "stream",
     "text": [
      "enter the first number: 23.55\n",
      "enter the second number: 4555.888\n"
     ]
    }
   ],
   "source": [
    "n1=input(\"enter the first number:\")\n",
    "n2=input(\"enter the second number:\")\n",
    "sum = n1+n2"
   ]
  },
  {
   "cell_type": "code",
   "execution_count": 23,
   "id": "2d49137c-d0e0-406e-b1f0-3f7a25c4b391",
   "metadata": {},
   "outputs": [
    {
     "name": "stdout",
     "output_type": "stream",
     "text": [
      "the sum of a and b is :23.554555.888\n"
     ]
    }
   ],
   "source": [
    "print (f\"the sum of a and b is :{sum}\")"
   ]
  },
  {
   "cell_type": "markdown",
   "id": "e6d23538-5cd2-46d1-9d38-863bcf3a3907",
   "metadata": {},
   "source": [
    "# Assignment Operatot ==> +=, -=, *=, /=, //=, %=, **="
   ]
  },
  {
   "cell_type": "code",
   "execution_count": 28,
   "id": "e467d725-bcbf-439a-a3ce-0b2d0a4cea1e",
   "metadata": {},
   "outputs": [
    {
     "name": "stdout",
     "output_type": "stream",
     "text": [
      "0.0\n"
     ]
    }
   ],
   "source": [
    "a = 100\n",
    "a+= 100 #a= a+100\n",
    "a-=200 \n",
    "a*=5 #a=a*5\n",
    "a/=5\n",
    "print (a)\n"
   ]
  },
  {
   "cell_type": "markdown",
   "id": "b96f6e86-95a9-4e98-9352-30a4ac5e77aa",
   "metadata": {},
   "source": [
    "# Comparision Operator ==> ==, != ,>=, <=, <, >\n"
   ]
  },
  {
   "cell_type": "code",
   "execution_count": 30,
   "id": "66c9baf9-e0fa-42df-b5a6-83a08c3e7507",
   "metadata": {},
   "outputs": [
    {
     "name": "stdout",
     "output_type": "stream",
     "text": [
      "True\n",
      "False\n",
      "True\n"
     ]
    }
   ],
   "source": [
    "print(10==10)\n",
    "print(10 == '10')\n",
    "print(10 != '10')"
   ]
  },
  {
   "cell_type": "markdown",
   "id": "3e6c7084-04f3-4b76-ac00-7ca3ce848b14",
   "metadata": {},
   "source": [
    "# Logical Operator"
   ]
  },
  {
   "cell_type": "code",
   "execution_count": 32,
   "id": "2e62a771-3833-47cb-ab94-f8be78a66a41",
   "metadata": {},
   "outputs": [],
   "source": [
    "#==> and, or, not"
   ]
  },
  {
   "cell_type": "code",
   "execution_count": 36,
   "id": "596a24d0-844a-4b23-9bee-4ecca9035d86",
   "metadata": {},
   "outputs": [
    {
     "name": "stdout",
     "output_type": "stream",
     "text": [
      "True\n",
      "False\n",
      "False\n",
      "---------------------------\n",
      "True\n",
      "True\n",
      "False\n"
     ]
    }
   ],
   "source": [
    "print(True and True)\n",
    "print(True and False)\n",
    "print(False and False)\n",
    "print('---------------------------')\n",
    "print(True or False)\n",
    "print(True or False)\n",
    "print(False or False)\n",
    "\n"
   ]
  },
  {
   "cell_type": "markdown",
   "id": "93ddf051-316b-4b02-8832-203638e7c277",
   "metadata": {},
   "source": [
    "Membership Operator ==.in, not in"
   ]
  },
  {
   "cell_type": "code",
   "execution_count": 38,
   "id": "8047aebd-b3f4-4b17-b877-1882e71771b5",
   "metadata": {},
   "outputs": [
    {
     "name": "stdout",
     "output_type": "stream",
     "text": [
      "False\n",
      "True\n",
      "False\n"
     ]
    }
   ],
   "source": [
    "print('s' in 'python')\n",
    "print('p' in 'python')\n",
    "print('P' in 'python')"
   ]
  },
  {
   "cell_type": "markdown",
   "id": "5638d9ee-f08f-4793-89fb-054f06e1130e",
   "metadata": {},
   "source": [
    "# Special Operator ==. is , is not"
   ]
  },
  {
   "cell_type": "code",
   "execution_count": 40,
   "id": "fce47b3e-b683-4ccb-87bd-9cb4d4051ef4",
   "metadata": {},
   "outputs": [
    {
     "name": "stdout",
     "output_type": "stream",
     "text": [
      "True\n",
      "False\n"
     ]
    },
    {
     "name": "stderr",
     "output_type": "stream",
     "text": [
      "<>:1: SyntaxWarning: \"is\" with 'int' literal. Did you mean \"==\"?\n",
      "<>:2: SyntaxWarning: \"is not\" with 'int' literal. Did you mean \"!=\"?\n",
      "<>:1: SyntaxWarning: \"is\" with 'int' literal. Did you mean \"==\"?\n",
      "<>:2: SyntaxWarning: \"is not\" with 'int' literal. Did you mean \"!=\"?\n",
      "C:\\Users\\user\\AppData\\Local\\Temp\\ipykernel_5220\\2898336956.py:1: SyntaxWarning: \"is\" with 'int' literal. Did you mean \"==\"?\n",
      "  print (10 is 10)\n",
      "C:\\Users\\user\\AppData\\Local\\Temp\\ipykernel_5220\\2898336956.py:2: SyntaxWarning: \"is not\" with 'int' literal. Did you mean \"!=\"?\n",
      "  print(10 is not 10)\n"
     ]
    }
   ],
   "source": [
    "print (10 is 10)\n",
    "print(10 is not 10)"
   ]
  },
  {
   "cell_type": "code",
   "execution_count": 41,
   "id": "9782f667-3dc6-40d9-8a8a-869141fe4ee0",
   "metadata": {},
   "outputs": [
    {
     "name": "stdout",
     "output_type": "stream",
     "text": [
      "True\n"
     ]
    }
   ],
   "source": [
    "fruits = ['apple', 'banana']\n",
    "print('apple' in fruits)"
   ]
  },
  {
   "cell_type": "code",
   "execution_count": null,
   "id": "ccb17cfe-6987-4327-a5b5-4bb05cb86eea",
   "metadata": {},
   "outputs": [],
   "source": []
  }
 ],
 "metadata": {
  "kernelspec": {
   "display_name": "Python 3 (ipykernel)",
   "language": "python",
   "name": "python3"
  },
  "language_info": {
   "codemirror_mode": {
    "name": "ipython",
    "version": 3
   },
   "file_extension": ".py",
   "mimetype": "text/x-python",
   "name": "python",
   "nbconvert_exporter": "python",
   "pygments_lexer": "ipython3",
   "version": "3.12.6"
  }
 },
 "nbformat": 4,
 "nbformat_minor": 5
}
